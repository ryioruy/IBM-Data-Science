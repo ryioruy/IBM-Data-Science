{
  "metadata": {
    "kernelspec": {
      "name": "python",
      "display_name": "Python (Pyodide)",
      "language": "python"
    },
    "language_info": {
      "codemirror_mode": {
        "name": "python",
        "version": 3
      },
      "file_extension": ".py",
      "mimetype": "text/x-python",
      "name": "python",
      "nbconvert_exporter": "python",
      "pygments_lexer": "ipython3",
      "version": "3.8"
    }
  },
  "nbformat_minor": 5,
  "nbformat": 4,
  "cells": [
    {
      "cell_type": "markdown",
      "source": "<h1>Data Science Tools and Ecosystem</h1>",
      "metadata": {},
      "id": "a35eeb9f-df70-4ab1-a243-2d2025888eb0"
    },
    {
      "cell_type": "markdown",
      "source": "In this notebook, Data Science Tools and Ecosystem are summarized.",
      "metadata": {},
      "id": "fd589090-6dc3-432a-b5fe-706b1d87ba5d"
    },
    {
      "cell_type": "markdown",
      "source": "<b>Objectives:</b> <br></br>\n    - Python\n    - R\n    - SQL\n    - JAVA\n    - TensorFlow",
      "metadata": {},
      "id": "40285782-4db9-4ddb-a7b0-45b37b613cfa"
    },
    {
      "cell_type": "markdown",
      "source": "Some of the popular languages that Data Scientists use are:\n    1. Python\n    2. R\n    3. SQL\n    4. JAVA",
      "metadata": {},
      "id": "8646aa16-b918-4aaa-ae3b-c8c2abe79094"
    },
    {
      "cell_type": "markdown",
      "source": "Some of the commonly used libraries used by Data Scientists include:\n    1. NumPy\n    2. TensorFlow\n    3. Pandas",
      "metadata": {},
      "id": "34e7566d-9468-49d8-b6f6-dab88381c1bf"
    },
    {
      "cell_type": "markdown",
      "source": "<table>\n    <tr>\n        <th>Data Science Tools</th>\n    </tr>\n    <tr>\n        <th>RStudio</th>\n    </tr>\n    <tr>\n        <th>TensorFlow</th>\n    </tr>\n    <tr>\n        <th>Apache Spark</th>\n    </tr>\n    \n</table>",
      "metadata": {},
      "id": "fdf3d7b0-ea61-45c2-864f-2320b7428753"
    },
    {
      "cell_type": "markdown",
      "source": "<h3>\n    Below are a few examples of evaluating arithmetic expressions in Python\n</h3>",
      "metadata": {},
      "id": "1e1ddd5d-48e7-4125-931b-646c9b8627df"
    },
    {
      "cell_type": "code",
      "source": "## This a simple arithmetic expression to mutiply then add integers\n(3*4)+5",
      "metadata": {
        "trusted": true
      },
      "execution_count": 1,
      "outputs": [
        {
          "execution_count": 1,
          "output_type": "execute_result",
          "data": {
            "text/plain": "17"
          },
          "metadata": {}
        }
      ],
      "id": "7a6deb72-7a03-4c98-810b-1a53f22df07b"
    },
    {
      "cell_type": "code",
      "source": "## This will convert 200 minutes to hours by diving by 60\nhour = ''\nminute = 200\nhour = str(minute / 60) + ' hours'\nhour",
      "metadata": {
        "trusted": true
      },
      "execution_count": 8,
      "outputs": [
        {
          "execution_count": 8,
          "output_type": "execute_result",
          "data": {
            "text/plain": "'3.3333333333333335 hours'"
          },
          "metadata": {}
        }
      ],
      "id": "861817fe-2d07-433e-ba53-7657b130b024"
    },
    {
      "cell_type": "markdown",
      "source": "<h2>Author</h2>\nJungOh Chang",
      "metadata": {},
      "id": "33a01c1a-f5b9-478a-aca8-9f98658d10cc"
    }
  ]
}